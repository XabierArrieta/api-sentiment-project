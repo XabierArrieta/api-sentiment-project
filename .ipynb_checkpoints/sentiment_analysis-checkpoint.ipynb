{
 "cells": [
  {
   "cell_type": "code",
   "execution_count": 91,
   "id": "heated-warehouse",
   "metadata": {},
   "outputs": [],
   "source": [
    "import pandas as pd\n",
    "\n",
    "#NLTK\n",
    "import nltk\n",
    "from nltk.sentiment.vader import SentimentIntensityAnalyzer\n",
    "\n",
    "from nltk.corpus import stopwords\n",
    "\n",
    "#TextBlob\n",
    "from textblob import TextBlob\n",
    "\n",
    "from langdetect import detect"
   ]
  },
  {
   "cell_type": "code",
   "execution_count": 7,
   "id": "consistent-integral",
   "metadata": {},
   "outputs": [
    {
     "data": {
      "text/html": [
       "<div>\n",
       "<style scoped>\n",
       "    .dataframe tbody tr th:only-of-type {\n",
       "        vertical-align: middle;\n",
       "    }\n",
       "\n",
       "    .dataframe tbody tr th {\n",
       "        vertical-align: top;\n",
       "    }\n",
       "\n",
       "    .dataframe thead th {\n",
       "        text-align: right;\n",
       "    }\n",
       "</style>\n",
       "<table border=\"1\" class=\"dataframe\">\n",
       "  <thead>\n",
       "    <tr style=\"text-align: right;\">\n",
       "      <th></th>\n",
       "      <th>Characters</th>\n",
       "      <th>Phrase</th>\n",
       "      <th>Movie</th>\n",
       "      <th>Year</th>\n",
       "    </tr>\n",
       "  </thead>\n",
       "  <tbody>\n",
       "    <tr>\n",
       "      <th>0</th>\n",
       "      <td>Harry Potter</td>\n",
       "      <td>I’ll be in my bedroom, making no noise and pre...</td>\n",
       "      <td>Harry Potter and the Chamber of Secrets</td>\n",
       "      <td>2002</td>\n",
       "    </tr>\n",
       "    <tr>\n",
       "      <th>1</th>\n",
       "      <td>Harry Potter</td>\n",
       "      <td>I solemnly swear I am up to no good.</td>\n",
       "      <td>Harry Potter and the Prisoner of Azkaban</td>\n",
       "      <td>2004</td>\n",
       "    </tr>\n",
       "    <tr>\n",
       "      <th>2</th>\n",
       "      <td>Harry Potter</td>\n",
       "      <td>Mischief Managed!</td>\n",
       "      <td>Harry Potter and the Prisoner of Azkaban</td>\n",
       "      <td>2004</td>\n",
       "    </tr>\n",
       "    <tr>\n",
       "      <th>3</th>\n",
       "      <td>Harry Potter</td>\n",
       "      <td>There is no need to call me ‘sir,’ Professor.</td>\n",
       "      <td>Harry Potter and the Half-Blood Prince</td>\n",
       "      <td>2009</td>\n",
       "    </tr>\n",
       "    <tr>\n",
       "      <th>4</th>\n",
       "      <td>Hermione Gringer</td>\n",
       "      <td>Twitchy little ferret, aren’t you, Malfoy?</td>\n",
       "      <td>Harry Potter and the Goblet of Fire</td>\n",
       "      <td>2005</td>\n",
       "    </tr>\n",
       "  </tbody>\n",
       "</table>\n",
       "</div>"
      ],
      "text/plain": [
       "         Characters                                             Phrase  \\\n",
       "0      Harry Potter  I’ll be in my bedroom, making no noise and pre...   \n",
       "1      Harry Potter               I solemnly swear I am up to no good.   \n",
       "2      Harry Potter                                  Mischief Managed!   \n",
       "3      Harry Potter      There is no need to call me ‘sir,’ Professor.   \n",
       "4  Hermione Gringer         Twitchy little ferret, aren’t you, Malfoy?   \n",
       "\n",
       "                                      Movie  Year  \n",
       "0   Harry Potter and the Chamber of Secrets  2002  \n",
       "1  Harry Potter and the Prisoner of Azkaban  2004  \n",
       "2  Harry Potter and the Prisoner of Azkaban  2004  \n",
       "3    Harry Potter and the Half-Blood Prince  2009  \n",
       "4       Harry Potter and the Goblet of Fire  2005  "
      ]
     },
     "execution_count": 7,
     "metadata": {},
     "output_type": "execute_result"
    }
   ],
   "source": [
    "df = pd.read_csv(\"data/HP_quotes.csv\")\n",
    "df.head()"
   ]
  },
  {
   "cell_type": "code",
   "execution_count": 8,
   "id": "owned-particular",
   "metadata": {},
   "outputs": [
    {
     "name": "stderr",
     "output_type": "stream",
     "text": [
      "[nltk_data] Downloading package stopwords to\n",
      "[nltk_data]     /Users/xabier/nltk_data...\n",
      "[nltk_data]   Unzipping corpora/stopwords.zip.\n"
     ]
    },
    {
     "data": {
      "text/plain": [
       "True"
      ]
     },
     "execution_count": 8,
     "metadata": {},
     "output_type": "execute_result"
    }
   ],
   "source": [
    "nltk.download('stopwords') #stopwords"
   ]
  },
  {
   "cell_type": "code",
   "execution_count": 9,
   "id": "derived-sessions",
   "metadata": {},
   "outputs": [
    {
     "name": "stdout",
     "output_type": "stream",
     "text": [
      "{'have', 'yourself', 'were', 'hers', 'by', 'any', \"won't\", 'while', 're', 'should', 'was', 'this', 'having', 'over', 'down', 'himself', 'with', 'the', 'out', \"hadn't\", 'had', \"aren't\", \"she's\", 'won', 'against', 'mightn', 'that', 'because', 'him', 'its', 'such', 'in', 'didn', 'herself', 'but', \"needn't\", 'itself', 'did', 'below', 'ain', 'd', 'shan', 'theirs', 'a', 'will', 'of', 'his', 'do', 'aren', 'themselves', 'and', 'off', 'other', \"wasn't\", \"weren't\", 'them', 'about', 'these', 'hasn', 'am', 'is', \"don't\", 'are', 'most', \"you'd\", 'wouldn', 'has', 'through', 'her', 'we', 'being', 'y', \"that'll\", 'no', 'haven', 'just', 'ours', 'm', 'wasn', 'too', 's', \"you're\", \"you'll\", 'll', 'yours', 'if', 'then', 'same', 'there', 'can', \"couldn't\", \"wouldn't\", \"mustn't\", 'your', 'once', 'ma', 'who', 'own', 'where', 'few', 'as', 've', 'those', 'shouldn', 'whom', 'both', 'only', \"isn't\", 't', 'it', 'myself', 'again', 'above', \"hasn't\", 'to', 'after', \"haven't\", 'now', 'me', 'than', 'which', 'for', \"you've\", 'been', 'on', 'how', 'or', 'each', 'up', 'does', \"shan't\", 'all', 'couldn', 'our', 'more', 'needn', 'from', 'ourselves', 'at', \"shouldn't\", 'an', 'i', 'until', 'into', 'very', 'don', 'you', 'their', \"didn't\", 'mustn', 'he', 'before', \"it's\", 'isn', 'they', \"should've\", 'not', 'between', 'under', 'why', 'here', 'she', 'during', 'what', 'o', \"mightn't\", 'hadn', 'when', 'nor', 'weren', 'doesn', \"doesn't\", 'yourselves', 'be', 'doing', 'my', 'some', 'further', 'so'}\n"
     ]
    }
   ],
   "source": [
    "stop_words = set(stopwords.words('english'))\n",
    "print(stop_words)"
   ]
  },
  {
   "cell_type": "markdown",
   "id": "brazilian-sacramento",
   "metadata": {},
   "source": [
    "# Textblob\n",
    "\n",
    "    TextBlob(the_string).sentiment\n",
    "\n",
    "    Args: string\n",
    "    Returns: polarity& subjectivity"
   ]
  },
  {
   "cell_type": "code",
   "execution_count": 69,
   "id": "stable-murder",
   "metadata": {},
   "outputs": [],
   "source": [
    "phrase0 = \"I love you\" #test\n",
    "phrase1 = \"I solemnly swear I am up to no good.\" #Harry Potter\n",
    "phrase2 = \"Fear of a name only increases fear of the thing itself.\" #Hermione Gringer\n",
    "phrase3 = \"Don’t let the muggles get you down.\" #Ron Weasley\n",
    "phrase4 = \"We are only as strong as we are united, as weak as we are divided.\" #Albus Dumbledore\n",
    "phrase5 = \"We teachers are rather good at magic, you know.\" #Minerva McGonagall\n",
    "phrase6 = \"Clearly fame isn't everything, is it, Mr. Potter?.\" #Severus Snape\n",
    "phrase7 = \"Dry Up Dursley, You Big Prune.\" #Rubeus Hagrid\n",
    "phrase8 = \"This class is ridiculous\" #Draco Malfoy\n",
    "phrase9 = \"Bad Dobby! Bad Dobby!\" #Dobby\n",
    "phrase10 = \"Don't you turn your back on me, Harry Potter! I want you to look at me when I kill you! I want to see the light leave your eyes!\" #Voldemort"
   ]
  },
  {
   "cell_type": "code",
   "execution_count": 52,
   "id": "assigned-growing",
   "metadata": {},
   "outputs": [
    {
     "data": {
      "text/plain": [
       "Sentiment(polarity=0.5, subjectivity=0.6)"
      ]
     },
     "execution_count": 52,
     "metadata": {},
     "output_type": "execute_result"
    }
   ],
   "source": [
    "blob = TextBlob(phrase0)\n",
    "blob.sentiment"
   ]
  },
  {
   "cell_type": "code",
   "execution_count": 53,
   "id": "amino-dream",
   "metadata": {},
   "outputs": [
    {
     "data": {
      "text/plain": [
       "Sentiment(polarity=-0.35, subjectivity=0.6000000000000001)"
      ]
     },
     "execution_count": 53,
     "metadata": {},
     "output_type": "execute_result"
    }
   ],
   "source": [
    "blob = TextBlob(phrase1)\n",
    "blob.sentiment"
   ]
  },
  {
   "cell_type": "code",
   "execution_count": 54,
   "id": "frequent-compound",
   "metadata": {},
   "outputs": [
    {
     "data": {
      "text/plain": [
       "Sentiment(polarity=0.0, subjectivity=1.0)"
      ]
     },
     "execution_count": 54,
     "metadata": {},
     "output_type": "execute_result"
    }
   ],
   "source": [
    "blob = TextBlob(phrase2)\n",
    "blob.sentiment"
   ]
  },
  {
   "cell_type": "code",
   "execution_count": 55,
   "id": "interpreted-office",
   "metadata": {},
   "outputs": [
    {
     "data": {
      "text/plain": [
       "Sentiment(polarity=-0.15555555555555559, subjectivity=0.2888888888888889)"
      ]
     },
     "execution_count": 55,
     "metadata": {},
     "output_type": "execute_result"
    }
   ],
   "source": [
    "blob = TextBlob(phrase3)\n",
    "blob.sentiment"
   ]
  },
  {
   "cell_type": "code",
   "execution_count": 56,
   "id": "formed-extraction",
   "metadata": {},
   "outputs": [
    {
     "data": {
      "text/plain": [
       "Sentiment(polarity=0.01944444444444443, subjectivity=0.7861111111111111)"
      ]
     },
     "execution_count": 56,
     "metadata": {},
     "output_type": "execute_result"
    }
   ],
   "source": [
    "blob = TextBlob(phrase4)\n",
    "blob.sentiment"
   ]
  },
  {
   "cell_type": "code",
   "execution_count": 57,
   "id": "quantitative-silver",
   "metadata": {},
   "outputs": [
    {
     "data": {
      "text/plain": [
       "Sentiment(polarity=0.6, subjectivity=0.8)"
      ]
     },
     "execution_count": 57,
     "metadata": {},
     "output_type": "execute_result"
    }
   ],
   "source": [
    "blob = TextBlob(phrase5)\n",
    "blob.sentiment"
   ]
  },
  {
   "cell_type": "code",
   "execution_count": 70,
   "id": "necessary-maldives",
   "metadata": {},
   "outputs": [
    {
     "data": {
      "text/plain": [
       "Sentiment(polarity=0.10000000000000002, subjectivity=0.3833333333333333)"
      ]
     },
     "execution_count": 70,
     "metadata": {},
     "output_type": "execute_result"
    }
   ],
   "source": [
    "blob = TextBlob(phrase6)\n",
    "blob.sentiment"
   ]
  },
  {
   "cell_type": "code",
   "execution_count": 66,
   "id": "naughty-gamma",
   "metadata": {},
   "outputs": [
    {
     "data": {
      "text/plain": [
       "Sentiment(polarity=-0.033333333333333326, subjectivity=0.35)"
      ]
     },
     "execution_count": 66,
     "metadata": {},
     "output_type": "execute_result"
    }
   ],
   "source": [
    "blob = TextBlob(phrase7)\n",
    "blob.sentiment"
   ]
  },
  {
   "cell_type": "code",
   "execution_count": 60,
   "id": "animated-enlargement",
   "metadata": {},
   "outputs": [
    {
     "data": {
      "text/plain": [
       "Sentiment(polarity=-0.3333333333333333, subjectivity=1.0)"
      ]
     },
     "execution_count": 60,
     "metadata": {},
     "output_type": "execute_result"
    }
   ],
   "source": [
    "blob = TextBlob(phrase8)\n",
    "blob.sentiment"
   ]
  },
  {
   "cell_type": "code",
   "execution_count": 61,
   "id": "organized-observation",
   "metadata": {},
   "outputs": [
    {
     "data": {
      "text/plain": [
       "Sentiment(polarity=-0.8749999999999998, subjectivity=0.6666666666666666)"
      ]
     },
     "execution_count": 61,
     "metadata": {},
     "output_type": "execute_result"
    }
   ],
   "source": [
    "blob = TextBlob(phrase9)\n",
    "blob.sentiment"
   ]
  },
  {
   "cell_type": "code",
   "execution_count": 62,
   "id": "medical-nevada",
   "metadata": {},
   "outputs": [
    {
     "data": {
      "text/plain": [
       "Sentiment(polarity=0.25, subjectivity=0.35)"
      ]
     },
     "execution_count": 62,
     "metadata": {},
     "output_type": "execute_result"
    }
   ],
   "source": [
    "blob = TextBlob(phrase10)\n",
    "blob.sentiment"
   ]
  },
  {
   "cell_type": "markdown",
   "id": "weighted-ordering",
   "metadata": {},
   "source": [
    "# NLTK\n",
    "\n",
    "    sia.polarity_scores(the_string)\n",
    "\n",
    "    Args: string\n",
    "    Returns: polarity"
   ]
  },
  {
   "cell_type": "code",
   "execution_count": 76,
   "id": "intended-grade",
   "metadata": {},
   "outputs": [
    {
     "name": "stderr",
     "output_type": "stream",
     "text": [
      "[nltk_data] Downloading package vader_lexicon to\n",
      "[nltk_data]     /Users/xabier/nltk_data...\n"
     ]
    },
    {
     "data": {
      "text/plain": [
       "True"
      ]
     },
     "execution_count": 76,
     "metadata": {},
     "output_type": "execute_result"
    }
   ],
   "source": [
    "nltk.downloader.download('vader_lexicon')"
   ]
  },
  {
   "cell_type": "code",
   "execution_count": 77,
   "id": "bronze-nevada",
   "metadata": {},
   "outputs": [],
   "source": [
    "sia = SentimentIntensityAnalyzer()"
   ]
  },
  {
   "cell_type": "code",
   "execution_count": 78,
   "id": "laughing-commission",
   "metadata": {},
   "outputs": [],
   "source": [
    "test1 = \"this is beautiful\""
   ]
  },
  {
   "cell_type": "code",
   "execution_count": 80,
   "id": "british-bargain",
   "metadata": {},
   "outputs": [
    {
     "data": {
      "text/plain": [
       "{'neg': 0.0, 'neu': 0.339, 'pos': 0.661, 'compound': 0.5994}"
      ]
     },
     "execution_count": 80,
     "metadata": {},
     "output_type": "execute_result"
    }
   ],
   "source": [
    "polarity = sia.polarity_scores(test1)\n",
    "polarity"
   ]
  },
  {
   "cell_type": "code",
   "execution_count": 81,
   "id": "popular-scott",
   "metadata": {},
   "outputs": [],
   "source": [
    "def sentimentAnalysis(sentence):\n",
    "    sia = SentimentIntensityAnalyzer()\n",
    "    polarity = sia.polarity_scores(sentence)\n",
    "    pol = polarity['compound']\n",
    "    return pol"
   ]
  },
  {
   "cell_type": "code",
   "execution_count": 83,
   "id": "fabulous-distributor",
   "metadata": {},
   "outputs": [
    {
     "data": {
      "text/plain": [
       "0.5994"
      ]
     },
     "execution_count": 83,
     "metadata": {},
     "output_type": "execute_result"
    }
   ],
   "source": [
    "sentimentAnalysis(test1)"
   ]
  },
  {
   "cell_type": "code",
   "execution_count": 85,
   "id": "genuine-decrease",
   "metadata": {},
   "outputs": [
    {
     "data": {
      "text/html": [
       "<div>\n",
       "<style scoped>\n",
       "    .dataframe tbody tr th:only-of-type {\n",
       "        vertical-align: middle;\n",
       "    }\n",
       "\n",
       "    .dataframe tbody tr th {\n",
       "        vertical-align: top;\n",
       "    }\n",
       "\n",
       "    .dataframe thead th {\n",
       "        text-align: right;\n",
       "    }\n",
       "</style>\n",
       "<table border=\"1\" class=\"dataframe\">\n",
       "  <thead>\n",
       "    <tr style=\"text-align: right;\">\n",
       "      <th></th>\n",
       "      <th>Characters</th>\n",
       "      <th>Phrase</th>\n",
       "      <th>Movie</th>\n",
       "      <th>Year</th>\n",
       "      <th>sentiment_compound</th>\n",
       "    </tr>\n",
       "  </thead>\n",
       "  <tbody>\n",
       "    <tr>\n",
       "      <th>0</th>\n",
       "      <td>Harry Potter</td>\n",
       "      <td>I’ll be in my bedroom, making no noise and pre...</td>\n",
       "      <td>Harry Potter and the Chamber of Secrets</td>\n",
       "      <td>2002</td>\n",
       "      <td>-0.2023</td>\n",
       "    </tr>\n",
       "    <tr>\n",
       "      <th>1</th>\n",
       "      <td>Harry Potter</td>\n",
       "      <td>I solemnly swear I am up to no good.</td>\n",
       "      <td>Harry Potter and the Prisoner of Azkaban</td>\n",
       "      <td>2004</td>\n",
       "      <td>0.3182</td>\n",
       "    </tr>\n",
       "    <tr>\n",
       "      <th>2</th>\n",
       "      <td>Harry Potter</td>\n",
       "      <td>Mischief Managed!</td>\n",
       "      <td>Harry Potter and the Prisoner of Azkaban</td>\n",
       "      <td>2004</td>\n",
       "      <td>-0.4199</td>\n",
       "    </tr>\n",
       "    <tr>\n",
       "      <th>3</th>\n",
       "      <td>Harry Potter</td>\n",
       "      <td>There is no need to call me ‘sir,’ Professor.</td>\n",
       "      <td>Harry Potter and the Half-Blood Prince</td>\n",
       "      <td>2009</td>\n",
       "      <td>-0.2960</td>\n",
       "    </tr>\n",
       "    <tr>\n",
       "      <th>4</th>\n",
       "      <td>Hermione Gringer</td>\n",
       "      <td>Twitchy little ferret, aren’t you, Malfoy?</td>\n",
       "      <td>Harry Potter and the Goblet of Fire</td>\n",
       "      <td>2005</td>\n",
       "      <td>0.0000</td>\n",
       "    </tr>\n",
       "    <tr>\n",
       "      <th>5</th>\n",
       "      <td>Hermione Gringer</td>\n",
       "      <td>Fear of a name only increases fear of the thin...</td>\n",
       "      <td>Harry Potter and the Chamber of Secrets</td>\n",
       "      <td>2002</td>\n",
       "      <td>-0.7506</td>\n",
       "    </tr>\n",
       "    <tr>\n",
       "      <th>6</th>\n",
       "      <td>Hermione Gringer</td>\n",
       "      <td>Just because you have the emotional range of a...</td>\n",
       "      <td>Harry Potter and the Order of the Phoenix</td>\n",
       "      <td>2007</td>\n",
       "      <td>0.2023</td>\n",
       "    </tr>\n",
       "    <tr>\n",
       "      <th>7</th>\n",
       "      <td>Ron Weasley</td>\n",
       "      <td>You're a little scary sometimes, you know that...</td>\n",
       "      <td>Harry Potter and the Philosopher's Stone</td>\n",
       "      <td>2001</td>\n",
       "      <td>-0.5290</td>\n",
       "    </tr>\n",
       "    <tr>\n",
       "      <th>8</th>\n",
       "      <td>Ron Weasley</td>\n",
       "      <td>When in doubt, go to the library.</td>\n",
       "      <td>Harry Potter and the Chamber of Secrets</td>\n",
       "      <td>2002</td>\n",
       "      <td>-0.3612</td>\n",
       "    </tr>\n",
       "    <tr>\n",
       "      <th>9</th>\n",
       "      <td>Ron Weasley</td>\n",
       "      <td>Don’t let the muggles get you down.</td>\n",
       "      <td>Harry Potter and the Prisoner of Azkaban</td>\n",
       "      <td>2004</td>\n",
       "      <td>0.0000</td>\n",
       "    </tr>\n",
       "    <tr>\n",
       "      <th>10</th>\n",
       "      <td>Ron Weasley</td>\n",
       "      <td>Accio Brain!</td>\n",
       "      <td>Harry Potter and the Order of the Phoenix</td>\n",
       "      <td>2007</td>\n",
       "      <td>0.0000</td>\n",
       "    </tr>\n",
       "    <tr>\n",
       "      <th>11</th>\n",
       "      <td>Albus Dumbledore</td>\n",
       "      <td>It does not do well to dwell on dreams and for...</td>\n",
       "      <td>Harry Potter and the Philosopher's Stone</td>\n",
       "      <td>2001</td>\n",
       "      <td>0.1245</td>\n",
       "    </tr>\n",
       "    <tr>\n",
       "      <th>12</th>\n",
       "      <td>Albus Dumbledore</td>\n",
       "      <td>We are only as strong as we are united, as wea...</td>\n",
       "      <td>Harry Potter and the Goblet of Fire</td>\n",
       "      <td>2005</td>\n",
       "      <td>0.4939</td>\n",
       "    </tr>\n",
       "    <tr>\n",
       "      <th>13</th>\n",
       "      <td>Albus Dumbledore</td>\n",
       "      <td>Age is foolish and forgetful when it underesti...</td>\n",
       "      <td>Harry Potter and the Half-Blood Prince</td>\n",
       "      <td>2009</td>\n",
       "      <td>-0.6486</td>\n",
       "    </tr>\n",
       "    <tr>\n",
       "      <th>14</th>\n",
       "      <td>Minerva McGonagall</td>\n",
       "      <td>I've always wanted to use that spell.</td>\n",
       "      <td>Harry Potter and the Deathly Hallows - Part 2</td>\n",
       "      <td>2011</td>\n",
       "      <td>0.0000</td>\n",
       "    </tr>\n",
       "    <tr>\n",
       "      <th>15</th>\n",
       "      <td>Minerva McGonagall</td>\n",
       "      <td>Don’t tell me what I can and can’t do, Potter.</td>\n",
       "      <td>Harry Potter and the Philosopher's Stone</td>\n",
       "      <td>2001</td>\n",
       "      <td>0.0000</td>\n",
       "    </tr>\n",
       "    <tr>\n",
       "      <th>16</th>\n",
       "      <td>Minerva McGonagall</td>\n",
       "      <td>We teachers are rather good at magic, you know.</td>\n",
       "      <td>Harry Potter and the Deathly Hallows - Part 1</td>\n",
       "      <td>2010</td>\n",
       "      <td>0.4404</td>\n",
       "    </tr>\n",
       "    <tr>\n",
       "      <th>17</th>\n",
       "      <td>Severus Snape</td>\n",
       "      <td>There will be no foolish wand-waving or silly ...</td>\n",
       "      <td>Harry Potter and the Philosopher's Stone</td>\n",
       "      <td>2001</td>\n",
       "      <td>-0.4939</td>\n",
       "    </tr>\n",
       "    <tr>\n",
       "      <th>18</th>\n",
       "      <td>Severus Snape</td>\n",
       "      <td>Mr Potter, our new celebrity.</td>\n",
       "      <td>Harry Potter and the Philosopher's Stone</td>\n",
       "      <td>2001</td>\n",
       "      <td>0.0000</td>\n",
       "    </tr>\n",
       "    <tr>\n",
       "      <th>19</th>\n",
       "      <td>Severus Snape</td>\n",
       "      <td>Clearly fame isn't everything, is it, Mr. Potter?</td>\n",
       "      <td>Harry Potter and the Philosopher's Stone</td>\n",
       "      <td>2001</td>\n",
       "      <td>0.6808</td>\n",
       "    </tr>\n",
       "    <tr>\n",
       "      <th>20</th>\n",
       "      <td>Severus Snape</td>\n",
       "      <td>You see what you expect to see.</td>\n",
       "      <td>Harry Potter and the Deathly Hallows - Part 1</td>\n",
       "      <td>2010</td>\n",
       "      <td>0.0000</td>\n",
       "    </tr>\n",
       "    <tr>\n",
       "      <th>21</th>\n",
       "      <td>Severus Snape</td>\n",
       "      <td>Look at me…. You have your mother’s eyes.</td>\n",
       "      <td>Harry Potter and the Deathly Hallows - Part 2</td>\n",
       "      <td>2011</td>\n",
       "      <td>0.0000</td>\n",
       "    </tr>\n",
       "    <tr>\n",
       "      <th>22</th>\n",
       "      <td>Rubeus Hagrid</td>\n",
       "      <td>You are a wizard Harry.</td>\n",
       "      <td>Harry Potter and the Philosopher's Stone</td>\n",
       "      <td>2001</td>\n",
       "      <td>0.0000</td>\n",
       "    </tr>\n",
       "    <tr>\n",
       "      <th>23</th>\n",
       "      <td>Rubeus Hagrid</td>\n",
       "      <td>Dry Up Dursley, You Big Prune</td>\n",
       "      <td>Harry Potter and the Philosopher's Stone</td>\n",
       "      <td>2001</td>\n",
       "      <td>0.0000</td>\n",
       "    </tr>\n",
       "    <tr>\n",
       "      <th>24</th>\n",
       "      <td>Rubeus Hagrid</td>\n",
       "      <td>Don't You Think On It Hermione, Don't You Thin...</td>\n",
       "      <td>Harry Potter and the Chamber of Secrets</td>\n",
       "      <td>2002</td>\n",
       "      <td>0.0000</td>\n",
       "    </tr>\n",
       "    <tr>\n",
       "      <th>25</th>\n",
       "      <td>Draco Malfoy</td>\n",
       "      <td>Scared, Potter?</td>\n",
       "      <td>Harry Potter and the Chamber of Secrets</td>\n",
       "      <td>2002</td>\n",
       "      <td>-0.4404</td>\n",
       "    </tr>\n",
       "    <tr>\n",
       "      <th>26</th>\n",
       "      <td>Draco Malfoy</td>\n",
       "      <td>This class is ridiculous...</td>\n",
       "      <td>Harry Potter and the Prisoner of Azkaban</td>\n",
       "      <td>2004</td>\n",
       "      <td>0.0000</td>\n",
       "    </tr>\n",
       "    <tr>\n",
       "      <th>27</th>\n",
       "      <td>Draco Malfoy</td>\n",
       "      <td>My father will hear about this!</td>\n",
       "      <td>Harry Potter and the Deathly Hallows - Part 1</td>\n",
       "      <td>2010</td>\n",
       "      <td>0.0000</td>\n",
       "    </tr>\n",
       "    <tr>\n",
       "      <th>28</th>\n",
       "      <td>Dobby</td>\n",
       "      <td>Dobby is...free.</td>\n",
       "      <td>Harry Potter and the Deathly Hallows - Part 1</td>\n",
       "      <td>2010</td>\n",
       "      <td>0.0000</td>\n",
       "    </tr>\n",
       "    <tr>\n",
       "      <th>29</th>\n",
       "      <td>Dobby</td>\n",
       "      <td>Bad Dobby! Bad Dobby!</td>\n",
       "      <td>Harry Potter and the Chamber of Secrets</td>\n",
       "      <td>2002</td>\n",
       "      <td>-0.8217</td>\n",
       "    </tr>\n",
       "    <tr>\n",
       "      <th>30</th>\n",
       "      <td>Dobby</td>\n",
       "      <td>You shall not harm Harry Potter!</td>\n",
       "      <td>Harry Potter and the Chamber of Secrets</td>\n",
       "      <td>2002</td>\n",
       "      <td>0.4840</td>\n",
       "    </tr>\n",
       "    <tr>\n",
       "      <th>31</th>\n",
       "      <td>Voldemort</td>\n",
       "      <td>There is no good and evil. There is only power...</td>\n",
       "      <td>Harry Potter and the Philosopher's Stone</td>\n",
       "      <td>2001</td>\n",
       "      <td>-0.7650</td>\n",
       "    </tr>\n",
       "    <tr>\n",
       "      <th>32</th>\n",
       "      <td>Voldemort</td>\n",
       "      <td>Harry Potter, the Boy who Lived... come to die...</td>\n",
       "      <td>Harry Potter and the Deathly Hallows - Part 2</td>\n",
       "      <td>2011</td>\n",
       "      <td>-0.6360</td>\n",
       "    </tr>\n",
       "    <tr>\n",
       "      <th>33</th>\n",
       "      <td>Voldemort</td>\n",
       "      <td>Don't you turn your back on me, Harry Potter! ...</td>\n",
       "      <td>Harry Potter and the Goblet of Fire</td>\n",
       "      <td>2005</td>\n",
       "      <td>-0.7332</td>\n",
       "    </tr>\n",
       "  </tbody>\n",
       "</table>\n",
       "</div>"
      ],
      "text/plain": [
       "            Characters                                             Phrase  \\\n",
       "0         Harry Potter  I’ll be in my bedroom, making no noise and pre...   \n",
       "1         Harry Potter               I solemnly swear I am up to no good.   \n",
       "2         Harry Potter                                  Mischief Managed!   \n",
       "3         Harry Potter      There is no need to call me ‘sir,’ Professor.   \n",
       "4     Hermione Gringer         Twitchy little ferret, aren’t you, Malfoy?   \n",
       "5     Hermione Gringer  Fear of a name only increases fear of the thin...   \n",
       "6     Hermione Gringer  Just because you have the emotional range of a...   \n",
       "7          Ron Weasley  You're a little scary sometimes, you know that...   \n",
       "8          Ron Weasley                  When in doubt, go to the library.   \n",
       "9          Ron Weasley                Don’t let the muggles get you down.   \n",
       "10         Ron Weasley                                       Accio Brain!   \n",
       "11    Albus Dumbledore  It does not do well to dwell on dreams and for...   \n",
       "12    Albus Dumbledore  We are only as strong as we are united, as wea...   \n",
       "13    Albus Dumbledore  Age is foolish and forgetful when it underesti...   \n",
       "14  Minerva McGonagall              I've always wanted to use that spell.   \n",
       "15  Minerva McGonagall     Don’t tell me what I can and can’t do, Potter.   \n",
       "16  Minerva McGonagall    We teachers are rather good at magic, you know.   \n",
       "17       Severus Snape  There will be no foolish wand-waving or silly ...   \n",
       "18       Severus Snape                      Mr Potter, our new celebrity.   \n",
       "19       Severus Snape  Clearly fame isn't everything, is it, Mr. Potter?   \n",
       "20       Severus Snape                    You see what you expect to see.   \n",
       "21       Severus Snape          Look at me…. You have your mother’s eyes.   \n",
       "22       Rubeus Hagrid                            You are a wizard Harry.   \n",
       "23       Rubeus Hagrid                      Dry Up Dursley, You Big Prune   \n",
       "24       Rubeus Hagrid  Don't You Think On It Hermione, Don't You Thin...   \n",
       "25        Draco Malfoy                                    Scared, Potter?   \n",
       "26        Draco Malfoy                        This class is ridiculous...   \n",
       "27        Draco Malfoy                    My father will hear about this!   \n",
       "28               Dobby                                   Dobby is...free.   \n",
       "29               Dobby                              Bad Dobby! Bad Dobby!   \n",
       "30               Dobby                   You shall not harm Harry Potter!   \n",
       "31           Voldemort  There is no good and evil. There is only power...   \n",
       "32           Voldemort  Harry Potter, the Boy who Lived... come to die...   \n",
       "33           Voldemort  Don't you turn your back on me, Harry Potter! ...   \n",
       "\n",
       "                                            Movie  Year  sentiment_compound  \n",
       "0         Harry Potter and the Chamber of Secrets  2002             -0.2023  \n",
       "1        Harry Potter and the Prisoner of Azkaban  2004              0.3182  \n",
       "2        Harry Potter and the Prisoner of Azkaban  2004             -0.4199  \n",
       "3          Harry Potter and the Half-Blood Prince  2009             -0.2960  \n",
       "4             Harry Potter and the Goblet of Fire  2005              0.0000  \n",
       "5         Harry Potter and the Chamber of Secrets  2002             -0.7506  \n",
       "6       Harry Potter and the Order of the Phoenix  2007              0.2023  \n",
       "7        Harry Potter and the Philosopher's Stone  2001             -0.5290  \n",
       "8         Harry Potter and the Chamber of Secrets  2002             -0.3612  \n",
       "9        Harry Potter and the Prisoner of Azkaban  2004              0.0000  \n",
       "10      Harry Potter and the Order of the Phoenix  2007              0.0000  \n",
       "11       Harry Potter and the Philosopher's Stone  2001              0.1245  \n",
       "12            Harry Potter and the Goblet of Fire  2005              0.4939  \n",
       "13         Harry Potter and the Half-Blood Prince  2009             -0.6486  \n",
       "14  Harry Potter and the Deathly Hallows - Part 2  2011              0.0000  \n",
       "15       Harry Potter and the Philosopher's Stone  2001              0.0000  \n",
       "16  Harry Potter and the Deathly Hallows - Part 1  2010              0.4404  \n",
       "17       Harry Potter and the Philosopher's Stone  2001             -0.4939  \n",
       "18       Harry Potter and the Philosopher's Stone  2001              0.0000  \n",
       "19       Harry Potter and the Philosopher's Stone  2001              0.6808  \n",
       "20  Harry Potter and the Deathly Hallows - Part 1  2010              0.0000  \n",
       "21  Harry Potter and the Deathly Hallows - Part 2  2011              0.0000  \n",
       "22       Harry Potter and the Philosopher's Stone  2001              0.0000  \n",
       "23       Harry Potter and the Philosopher's Stone  2001              0.0000  \n",
       "24        Harry Potter and the Chamber of Secrets  2002              0.0000  \n",
       "25        Harry Potter and the Chamber of Secrets  2002             -0.4404  \n",
       "26       Harry Potter and the Prisoner of Azkaban  2004              0.0000  \n",
       "27  Harry Potter and the Deathly Hallows - Part 1  2010              0.0000  \n",
       "28  Harry Potter and the Deathly Hallows - Part 1  2010              0.0000  \n",
       "29        Harry Potter and the Chamber of Secrets  2002             -0.8217  \n",
       "30        Harry Potter and the Chamber of Secrets  2002              0.4840  \n",
       "31       Harry Potter and the Philosopher's Stone  2001             -0.7650  \n",
       "32  Harry Potter and the Deathly Hallows - Part 2  2011             -0.6360  \n",
       "33            Harry Potter and the Goblet of Fire  2005             -0.7332  "
      ]
     },
     "execution_count": 85,
     "metadata": {},
     "output_type": "execute_result"
    }
   ],
   "source": [
    "df['sentiment_compound'] = df.Phrase.apply(sentimentAnalysis)\n",
    "df"
   ]
  },
  {
   "cell_type": "code",
   "execution_count": 86,
   "id": "macro-penguin",
   "metadata": {},
   "outputs": [
    {
     "data": {
      "text/plain": [
       "Severus Snape         5\n",
       "Ron Weasley           4\n",
       "Harry Potter          4\n",
       "Voldemort             3\n",
       "Albus Dumbledore      3\n",
       "Minerva McGonagall    3\n",
       "Draco Malfoy          3\n",
       "Dobby                 3\n",
       "Hermione Gringer      3\n",
       "Rubeus Hagrid         3\n",
       "Name: Characters, dtype: int64"
      ]
     },
     "execution_count": 86,
     "metadata": {},
     "output_type": "execute_result"
    }
   ],
   "source": [
    "df.Characters.value_counts()"
   ]
  },
  {
   "cell_type": "code",
   "execution_count": 87,
   "id": "earned-quality",
   "metadata": {},
   "outputs": [
    {
     "data": {
      "text/plain": [
       "Characters\n",
       "Voldemort            -0.711400\n",
       "Ron Weasley          -0.222550\n",
       "Hermione Gringer     -0.182767\n",
       "Harry Potter         -0.150000\n",
       "Draco Malfoy         -0.146800\n",
       "Dobby                -0.112567\n",
       "Albus Dumbledore     -0.010067\n",
       "Rubeus Hagrid         0.000000\n",
       "Severus Snape         0.037380\n",
       "Minerva McGonagall    0.146800\n",
       "Name: sentiment_compound, dtype: float64"
      ]
     },
     "execution_count": 87,
     "metadata": {},
     "output_type": "execute_result"
    }
   ],
   "source": [
    "resumen = df.groupby(['Characters'])['sentiment_compound'].mean().sort_values()\n",
    "resumen"
   ]
  },
  {
   "cell_type": "code",
   "execution_count": 88,
   "id": "indian-rugby",
   "metadata": {},
   "outputs": [
    {
     "data": {
      "text/plain": [
       "<AxesSubplot:xlabel='Characters'>"
      ]
     },
     "execution_count": 88,
     "metadata": {},
     "output_type": "execute_result"
    },
    {
     "data": {
      "image/png": "[encoded data removed]",
      "text/plain": [
       "<Figure size 432x288 with 1 Axes>"
      ]
     },
     "metadata": {
      "needs_background": "light"
     },
     "output_type": "display_data"
    }
   ],
   "source": [
    "resumen.plot(kind=\"bar\")"
   ]
  }
 ],
 "metadata": {
  "kernelspec": {
   "display_name": "Python 3",
   "language": "python",
   "name": "python3"
  },
  "language_info": {
   "codemirror_mode": {
    "name": "ipython",
    "version": 3
   },
   "file_extension": ".py",
   "mimetype": "text/x-python",
   "name": "python",
   "nbconvert_exporter": "python",
   "pygments_lexer": "ipython3",
   "version": "3.8.5"
  },
  "toc": {
   "base_numbering": 1,
   "nav_menu": {},
   "number_sections": true,
   "sideBar": true,
   "skip_h1_title": false,
   "title_cell": "Table of Contents",
   "title_sidebar": "Contents",
   "toc_cell": false,
   "toc_position": {},
   "toc_section_display": true,
   "toc_window_display": false
  },
  "varInspector": {
   "cols": {
    "lenName": 16,
    "lenType": 16,
    "lenVar": 40
   },
   "kernels_config": {
    "python": {
     "delete_cmd_postfix": "",
     "delete_cmd_prefix": "del ",
     "library": "var_list.py",
     "varRefreshCmd": "print(var_dic_list())"
    },
    "r": {
     "delete_cmd_postfix": ") ",
     "delete_cmd_prefix": "rm(",
     "library": "var_list.r",
     "varRefreshCmd": "cat(var_dic_list()) "
    }
   },
   "types_to_exclude": [
    "module",
    "function",
    "builtin_function_or_method",
    "instance",
    "_Feature"
   ],
   "window_display": false
  }
 },
 "nbformat": 4,
 "nbformat_minor": 5
}
