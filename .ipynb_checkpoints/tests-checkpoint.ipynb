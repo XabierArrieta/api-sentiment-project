{
 "cells": [
  {
   "cell_type": "markdown",
   "id": "beginning-worst",
   "metadata": {},
   "source": [
    "# Harry Potter API"
   ]
  },
  {
   "cell_type": "code",
   "execution_count": 44,
   "id": "multiple-trailer",
   "metadata": {},
   "outputs": [],
   "source": [
    "import requests\n",
    "import json\n",
    "from functools import reduce\n",
    "from pymongo import MongoClient\n",
    "from mongoConnection import *\n",
    "from flask import Flask, request, jsonify\n",
    "from bson.json_util import dumps\n",
    "from bson.objectid import ObjectId"
   ]
  },
  {
   "cell_type": "code",
   "execution_count": 45,
   "id": "approved-workstation",
   "metadata": {},
   "outputs": [
    {
     "data": {
      "text/plain": [
       "Database(MongoClient(host=['localhost:27017'], document_class=dict, tz_aware=False, connect=True), 'harrypotter')"
      ]
     },
     "execution_count": 45,
     "metadata": {},
     "output_type": "execute_result"
    }
   ],
   "source": [
    "client = MongoClient(\"mongodb://localhost/harrypotter\")\n",
    "db = client.get_database()\n",
    "client.harrypotter"
   ]
  },
  {
   "cell_type": "markdown",
   "id": "vertical-lebanon",
   "metadata": {},
   "source": [
    "1 diseñar la base de datos\n",
    "    -en funcion a las llamadas\n",
    "2 crear api\n",
    "    meta datos\n",
    "    saque datos\n",
    "3 funciones de control\n",
    "4 jupyter endopoints\n",
    "    10 celdas con ejemplos\n",
    "    \n",
    "    \n"
   ]
  },
  {
   "cell_type": "code",
   "execution_count": 46,
   "id": "existing-field",
   "metadata": {},
   "outputs": [
    {
     "data": {
      "text/plain": [
       "'Welcome to the magical world of Harry Potter'"
      ]
     },
     "execution_count": 46,
     "metadata": {},
     "output_type": "execute_result"
    }
   ],
   "source": [
    "res = requests.get(\"http://127.0.0.1:5000/welcome\")\n",
    "res.text"
   ]
  },
  {
   "cell_type": "code",
   "execution_count": 47,
   "id": "sacred-currency",
   "metadata": {},
   "outputs": [
    {
     "data": {
      "text/plain": [
       "[{'name': 'movies',\n",
       "  'type': 'collection',\n",
       "  'options': {},\n",
       "  'info': {'readOnly': False,\n",
       "   'uuid': UUID('0455be61-1c18-40fc-9f1b-e0f664a5bbd3')},\n",
       "  'idIndex': {'v': 2, 'key': {'_id': 1}, 'name': '_id_'}},\n",
       " {'name': 'quotes',\n",
       "  'type': 'collection',\n",
       "  'options': {},\n",
       "  'info': {'readOnly': False,\n",
       "   'uuid': UUID('a2ce707d-f2fb-447c-9d38-15801a892dbd')},\n",
       "  'idIndex': {'v': 2, 'key': {'_id': 1}, 'name': '_id_'}},\n",
       " {'name': 'characters',\n",
       "  'type': 'collection',\n",
       "  'options': {},\n",
       "  'info': {'readOnly': False,\n",
       "   'uuid': UUID('e3ccc85d-ef92-4ee8-a7f4-3fc8abf13dcd')},\n",
       "  'idIndex': {'v': 2, 'key': {'_id': 1}, 'name': '_id_'}}]"
      ]
     },
     "execution_count": 47,
     "metadata": {},
     "output_type": "execute_result"
    }
   ],
   "source": [
    "list(db.list_collections())"
   ]
  },
  {
   "cell_type": "code",
   "execution_count": 48,
   "id": "political-central",
   "metadata": {},
   "outputs": [
    {
     "data": {
      "text/plain": [
       "<Response [200]>"
      ]
     },
     "execution_count": 48,
     "metadata": {},
     "output_type": "execute_result"
    }
   ],
   "source": [
    "res = requests.get(\"http://127.0.0.1:5000/quotes\")\n",
    "res"
   ]
  },
  {
   "cell_type": "code",
   "execution_count": 62,
   "id": "insured-portuguese",
   "metadata": {},
   "outputs": [
    {
     "data": {
      "text/plain": [
       "[{'Phrase': 'I’ll be in my bedroom, making no noise and pretending I’m not there.'},\n",
       " {'Phrase': 'I solemnly swear I am up to no good.'},\n",
       " {'Phrase': 'Mischief Managed!'},\n",
       " {'Phrase': 'There is no need to call me ‘sir,’ Professor.'},\n",
       " {'Phrase': 'Twitchy little ferret, aren’t you, Malfoy?'},\n",
       " {'Phrase': 'Fear of a name only increases fear of the thing itself.'},\n",
       " {'Phrase': \"Just because you have the emotional range of a teaspoon doesn't mean we all have.\"},\n",
       " {'Phrase': \"You're a little scary sometimes, you know that? Brilliant ... but scary.\"},\n",
       " {'Phrase': 'When in doubt, go to the library.'},\n",
       " {'Phrase': 'Don’t let the muggles get you down.'},\n",
       " {'Phrase': 'Accio Brain!'},\n",
       " {'Phrase': 'It does not do well to dwell on dreams and forget to live.'},\n",
       " {'Phrase': 'We are only as strong as we are united, as weak as we are divided.'},\n",
       " {'Phrase': 'Age is foolish and forgetful when it underestimates youth.'},\n",
       " {'Phrase': \"I've always wanted to use that spell.\"}]"
      ]
     },
     "execution_count": 62,
     "metadata": {},
     "output_type": "execute_result"
    }
   ],
   "source": [
    "info = list(db.quotes.find({}, {\"Phrase\":1, \"_id\":0}))\n",
    "info[:15]"
   ]
  },
  {
   "cell_type": "code",
   "execution_count": 50,
   "id": "emerging-insured",
   "metadata": {},
   "outputs": [],
   "source": [
    "new_quote = {\n",
    "    \"character\":\"Xabi\",\n",
    "    \"movie\":\"Harry Potter and the Philosopher's Stone\",\n",
    "    \"phrase\": \"AAAAAAAAAAAAA\"\n",
    "}\n",
    "res = requests.get(\"http://127.0.0.1:5000/phrase/new\")"
   ]
  },
  {
   "cell_type": "code",
   "execution_count": 52,
   "id": "recognized-threat",
   "metadata": {},
   "outputs": [
    {
     "ename": "NameError",
     "evalue": "name 'insert_data' is not defined",
     "output_type": "error",
     "traceback": [
      "\u001b[0;31m---------------------------------------------------------------------------\u001b[0m",
      "\u001b[0;31mNameError\u001b[0m                                 Traceback (most recent call last)",
      "\u001b[0;32m<ipython-input-52-9f83bae51644>\u001b[0m in \u001b[0;36m<module>\u001b[0;34m\u001b[0m\n\u001b[0;32m----> 1\u001b[0;31m \u001b[0minsert_data\u001b[0m\u001b[0;34m(\u001b[0m\u001b[0mquotes\u001b[0m\u001b[0;34m,\u001b[0m\u001b[0mnew_quote\u001b[0m\u001b[0;34m)\u001b[0m\u001b[0;34m\u001b[0m\u001b[0;34m\u001b[0m\u001b[0m\n\u001b[0m",
      "\u001b[0;31mNameError\u001b[0m: name 'insert_data' is not defined"
     ]
    }
   ],
   "source": [
    "insert_data(quotes,new_quote)"
   ]
  },
  {
   "cell_type": "code",
   "execution_count": null,
   "id": "taken-duncan",
   "metadata": {},
   "outputs": [],
   "source": []
  },
  {
   "cell_type": "markdown",
   "id": "alleged-pencil",
   "metadata": {},
   "source": [
    "solor request\n",
    "como metere ususarios,\n",
    "endopoint\n",
    "\"print\""
   ]
  },
  {
   "cell_type": "code",
   "execution_count": null,
   "id": "temporal-playing",
   "metadata": {},
   "outputs": [],
   "source": [
    "characters = {\n",
    "    Albus Dumbledore\n",
    "    \n",
    "    \n",
    "}\n"
   ]
  },
  {
   "cell_type": "code",
   "execution_count": 15,
   "id": "remarkable-assistant",
   "metadata": {},
   "outputs": [
    {
     "ename": "NameError",
     "evalue": "name 'sentence' is not defined",
     "output_type": "error",
     "traceback": [
      "\u001b[0;31m---------------------------------------------------------------------------\u001b[0m",
      "\u001b[0;31mNameError\u001b[0m                                 Traceback (most recent call last)",
      "\u001b[0;32m<ipython-input-15-e80b014e1a98>\u001b[0m in \u001b[0;36m<module>\u001b[0;34m\u001b[0m\n\u001b[1;32m      5\u001b[0m     \u001b[0;34m\"phrase\"\u001b[0m\u001b[0;34m:\u001b[0m\u001b[0;34m\"I hope you're pleased with yourselves. We could all have been killed — or worse, expelled. Now if you don't mind, I'm going to bed.\"\u001b[0m\u001b[0;34m\u001b[0m\u001b[0;34m\u001b[0m\u001b[0m\n\u001b[1;32m      6\u001b[0m }\n\u001b[0;32m----> 7\u001b[0;31m \u001b[0mres\u001b[0m \u001b[0;34m=\u001b[0m \u001b[0mrequests\u001b[0m\u001b[0;34m.\u001b[0m\u001b[0mget\u001b[0m\u001b[0;34m(\u001b[0m\u001b[0;34m\"http://127.0.0.1:5000/message/new\"\u001b[0m\u001b[0;34m,\u001b[0m \u001b[0mparams\u001b[0m\u001b[0;34m=\u001b[0m\u001b[0msentence\u001b[0m\u001b[0;34m)\u001b[0m\u001b[0;34m\u001b[0m\u001b[0;34m\u001b[0m\u001b[0m\n\u001b[0m\u001b[1;32m      8\u001b[0m \u001b[0mres\u001b[0m\u001b[0;34m\u001b[0m\u001b[0;34m\u001b[0m\u001b[0m\n",
      "\u001b[0;31mNameError\u001b[0m: name 'sentence' is not defined"
     ]
    }
   ],
   "source": []
  },
  {
   "cell_type": "code",
   "execution_count": 53,
   "id": "restricted-decision",
   "metadata": {},
   "outputs": [],
   "source": [
    "def insert_data(coll, obj, database = db):\n",
    "    '''\n",
    "     #con esto inserto datos en una coleccion \n",
    "     # que existe, y si no existe Mongo es muy listo y la crea\n",
    "    '''\n",
    "    insert = db[coll].insert_one(obj)\n",
    "    return insert"
   ]
  },
  {
   "cell_type": "code",
   "execution_count": 57,
   "id": "touched-measure",
   "metadata": {},
   "outputs": [],
   "source": [
    "message = {\n",
    "    \"character\":\"Hermione Granger\",\n",
    "    \"house\":\"Gryffindor\", \n",
    "    \"movie\":\"Harry Potter and the Philosopher's Stone\",\n",
    "    \"phrase\":\"I hope you're pleased with yourselves. We could all have been killed — or worse, expelled. Now if you don't mind, I'm going to bed.\"\n",
    "}\n",
    "res = requests.get(\"http://127.0.0.1:5000/phrase/new\")"
   ]
  },
  {
   "cell_type": "code",
   "execution_count": 59,
   "id": "organizational-empire",
   "metadata": {},
   "outputs": [
    {
     "data": {
      "text/plain": [
       "<pymongo.results.InsertOneResult at 0x7f84f4b48880>"
      ]
     },
     "execution_count": 59,
     "metadata": {},
     "output_type": "execute_result"
    }
   ],
   "source": [
    "insert_data(\"quotes\",new_quote)"
   ]
  },
  {
   "cell_type": "code",
   "execution_count": null,
   "id": "victorian-spiritual",
   "metadata": {},
   "outputs": [],
   "source": []
  },
  {
   "cell_type": "code",
   "execution_count": null,
   "id": "usual-indonesia",
   "metadata": {},
   "outputs": [],
   "source": []
  },
  {
   "cell_type": "code",
   "execution_count": null,
   "id": "governmental-mileage",
   "metadata": {},
   "outputs": [],
   "source": []
  },
  {
   "cell_type": "code",
   "execution_count": null,
   "id": "reported-commission",
   "metadata": {},
   "outputs": [],
   "source": []
  }
 ],
 "metadata": {
  "kernelspec": {
   "display_name": "Python 3",
   "language": "python",
   "name": "python3"
  },
  "language_info": {
   "codemirror_mode": {
    "name": "ipython",
    "version": 3
   },
   "file_extension": ".py",
   "mimetype": "text/x-python",
   "name": "python",
   "nbconvert_exporter": "python",
   "pygments_lexer": "ipython3",
   "version": "3.8.5"
  },
  "toc": {
   "base_numbering": 1,
   "nav_menu": {},
   "number_sections": true,
   "sideBar": true,
   "skip_h1_title": false,
   "title_cell": "Table of Contents",
   "title_sidebar": "Contents",
   "toc_cell": false,
   "toc_position": {},
   "toc_section_display": true,
   "toc_window_display": false
  },
  "varInspector": {
   "cols": {
    "lenName": 16,
    "lenType": 16,
    "lenVar": 40
   },
   "kernels_config": {
    "python": {
     "delete_cmd_postfix": "",
     "delete_cmd_prefix": "del ",
     "library": "var_list.py",
     "varRefreshCmd": "print(var_dic_list())"
    },
    "r": {
     "delete_cmd_postfix": ") ",
     "delete_cmd_prefix": "rm(",
     "library": "var_list.r",
     "varRefreshCmd": "cat(var_dic_list()) "
    }
   },
   "types_to_exclude": [
    "module",
    "function",
    "builtin_function_or_method",
    "instance",
    "_Feature"
   ],
   "window_display": false
  }
 },
 "nbformat": 4,
 "nbformat_minor": 5
}
